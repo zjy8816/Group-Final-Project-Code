{
 "cells": [
  {
   "cell_type": "code",
   "execution_count": 1,
   "id": "e71feda7",
   "metadata": {
    "scrolled": true
   },
   "outputs": [],
   "source": [
    "import numpy as np\n",
    "import pandas as pd\n",
    "from pandas import DataFrame as DF\n",
    "import matplotlib.pyplot as plt"
   ]
  },
  {
   "cell_type": "code",
   "execution_count": 2,
   "id": "b874e846",
   "metadata": {
    "scrolled": true
   },
   "outputs": [
    {
     "ename": "ModuleNotFoundError",
     "evalue": "No module named 'yfinance'",
     "output_type": "error",
     "traceback": [
      "\u001b[1;31m---------------------------------------------------------------------------\u001b[0m",
      "\u001b[1;31mModuleNotFoundError\u001b[0m                       Traceback (most recent call last)",
      "Cell \u001b[1;32mIn[2], line 1\u001b[0m\n\u001b[1;32m----> 1\u001b[0m \u001b[38;5;28;01mimport\u001b[39;00m \u001b[38;5;21;01myfinance\u001b[39;00m \u001b[38;5;28;01mas\u001b[39;00m \u001b[38;5;21;01myf\u001b[39;00m\n\u001b[0;32m      2\u001b[0m data \u001b[38;5;241m=\u001b[39m yf\u001b[38;5;241m.\u001b[39mdownload(\u001b[38;5;124m\"\u001b[39m\u001b[38;5;124mAAPL\u001b[39m\u001b[38;5;124m\"\u001b[39m, start\u001b[38;5;241m=\u001b[39m\u001b[38;5;124m\"\u001b[39m\u001b[38;5;124m2018-01-01\u001b[39m\u001b[38;5;124m\"\u001b[39m, end\u001b[38;5;241m=\u001b[39m\u001b[38;5;124m\"\u001b[39m\u001b[38;5;124m2023-10-10\u001b[39m\u001b[38;5;124m\"\u001b[39m,proxy\u001b[38;5;241m=\u001b[39m\u001b[38;5;124m\"\u001b[39m\u001b[38;5;124mhttp://127.0.0.1:7890\u001b[39m\u001b[38;5;124m\"\u001b[39m)\n\u001b[0;32m      3\u001b[0m data\n",
      "\u001b[1;31mModuleNotFoundError\u001b[0m: No module named 'yfinance'"
     ]
    }
   ],
   "source": [
    "import yfinance as yf\n",
    "data = yf.download(\"AAPL\", start=\"2018-01-01\", end=\"2023-10-10\",proxy=\"http://127.0.0.1:7890\")\n",
    "data"
   ]
  },
  {
   "cell_type": "markdown",
   "id": "8c631a18",
   "metadata": {},
   "source": [
    "### 1.1  Indicatos"
   ]
  },
  {
   "cell_type": "code",
   "execution_count": null,
   "id": "ce9ce097",
   "metadata": {
    "scrolled": true
   },
   "outputs": [],
   "source": [
    "\n",
    "def SMA(df, n):\n",
    "    '''\n",
    "    Simple Moving Average 简单移动平均线，典型长度为10、20、50\n",
    "    '''\n",
    "    df['SMA_' + str(n)] = pd.Series.rolling(df['Close'], n).mean()\n",
    "SMA(data, 10) "
   ]
  },
  {
   "cell_type": "code",
   "execution_count": null,
   "id": "40d0aeae",
   "metadata": {},
   "outputs": [],
   "source": [
    "def EMA(df, n):\n",
    "    '''\n",
    "    Exponential Moving Average 指数平滑移动平均线，span根据跨度指定衰减\n",
    "    '''\n",
    "    df['EMA_' + str(n)] = pd.Series.ewm(df['Close'],span=n, min_periods=n - 1).mean()\n",
    "EMA(data,5)"
   ]
  },
  {
   "cell_type": "code",
   "execution_count": null,
   "id": "dcd1b298",
   "metadata": {},
   "outputs": [],
   "source": [
    "def MOM(df, n):\n",
    "    '''\n",
    "    Momentum  \n",
    "    动量显示的是一段时间内价格变动的速度，以帮助投资者判断趋势的强弱。\n",
    "    倾向于随动量的强弱而变动的股票被称为动量股。\n",
    "    '''\n",
    "    df['MOM_' + str(n)] = pd.Series(df['Close'].diff(n))\n",
    "MOM(data, 5)"
   ]
  },
  {
   "cell_type": "code",
   "execution_count": null,
   "id": "5046ed61",
   "metadata": {},
   "outputs": [],
   "source": [
    "\n",
    "def ROC(df, n):\n",
    "    '''\n",
    "    Rate of Change\n",
    "    一般是用当前股票价格与过去一段时间的股票价格进行比较，计算出股票价格变动的百分比。\n",
    "    ROC指标的计算公式如下：ROC =（当日收盘价- n 天前的收盘价）/n 天前的收盘价 × 100\n",
    "    其中，n表示ROC指标的时间周期，可以根据需要设定，常用的时间周期包括12天、25天、50天等\n",
    "    '''\n",
    "    M = df['Close'].diff(n - 1)\n",
    "    N = df['Close'].shift(n - 1)\n",
    "\n",
    "    df['ROC_' + str(n)] = pd.Series(M / N)\n",
    "ROC(data,12)"
   ]
  },
  {
   "cell_type": "code",
   "execution_count": null,
   "id": "a0ab7e4d",
   "metadata": {},
   "outputs": [],
   "source": [
    "def ATR(df, n):\n",
    "    '''\n",
    "    Average True Range\n",
    "    均幅指标,是取一定时间周期内的股价波动幅度的移动平均值,显示市场变化率的指标,主要用于研判买卖时机\n",
    "    一般选择14天\n",
    "    '''\n",
    "    TR_l = [0]\n",
    "    for k in range(len(df.index)-1):\n",
    "        TR = max(df['High'][k + 1], df['Close'][k]) - min(df['Low'][k + 1], df['Close'][k])\n",
    "        TR_l.append(TR)\n",
    "\n",
    "    TR_s = pd.Series(TR_l)\n",
    "\n",
    "    df['ATR_' + str(n)] = pd.Series.ewm(TR_s, span=n,min_periods=n).mean().values\n",
    "ATR(data, 14)"
   ]
  },
  {
   "cell_type": "code",
   "execution_count": null,
   "id": "0e7ed22f",
   "metadata": {},
   "outputs": [],
   "source": [
    "def BBANDS(df, n, multiplier=2, middle=False):\n",
    "    '''\n",
    "    Bollinger Bands\n",
    "    绘制价格的标准差通道来衡量价格波动的程度,并提供价格的上下限范围\n",
    "    中轨是以移动平均线为基础计算得出的，通常采用简单移动平均线（SMA）。常用的周期长度为20天\n",
    "    '''\n",
    "    ma = pd.Series.rolling(df['Close'], n).mean()\n",
    "    msd = pd.Series.rolling(df['Close'], n).std()\n",
    "\n",
    "    b1 = 4 * msd / ma\n",
    "    b2 = (df['Close'] - ma + multiplier * msd) / (4 * msd)\n",
    "\n",
    "    df['BBANDSup_' + str(n)] = b1\n",
    "\n",
    "    if middle:\n",
    "        df['BBANDSmiddle_' + str(n)] = ma\n",
    "\n",
    "    df['BBANDSdown_' + str(n)] = b2\n",
    "    \n",
    "BBANDS(data,20, multiplier=2, middle=False)"
   ]
  },
  {
   "cell_type": "code",
   "execution_count": null,
   "id": "2d0847c0",
   "metadata": {},
   "outputs": [],
   "source": [
    "\n",
    "def PPSR(df):\n",
    "    '''\n",
    "    Pivot Points, Supports and Resistances\n",
    "    轴心点，在pp上下各有3条价格先，统计价格突破相应线的改了\n",
    "    '''\n",
    "    pp = pd.Series((df['High'] + df['Low'] + df['Close']) / 3)\n",
    "\n",
    "    s1 = pd.Series(2 * pp - df['High'])\n",
    "    s2 = pd.Series(pp - df['High'] + df['Low'])\n",
    "    s3 = pd.Series(df['Low'] - 2 * (df['High'] - pp))\n",
    "\n",
    "    r1 = pd.Series(2 * pp - df['Low'])\n",
    "    r2 = pd.Series(pp + df['High'] - df['Low'])\n",
    "    r3 = pd.Series(df['High'] + 2 * (pp - df['Low']))\n",
    "\n",
    "    df['PP'] = pp\n",
    "    df['S1'] = s1\n",
    "    df['S2'] = s2\n",
    "    df['S3'] = s3\n",
    "    df['R1'] = r1\n",
    "    df['R2'] = r2\n",
    "    df['R3'] = r3\n",
    "PPSR(data)"
   ]
  },
  {
   "cell_type": "code",
   "execution_count": null,
   "id": "d766b607",
   "metadata": {},
   "outputs": [],
   "source": [
    "def STOK(df):\n",
    "    '''\n",
    "    Stochastic oscillator %K\n",
    "    随机指标(stochastic oscillator)又称KD指标，由一条%K线以及一条%D线构成。\n",
    "    “%K”线代表最新价格和近期最低价的差，与近期最高最低差价的比\n",
    "    '''\n",
    "    df['STOK'] = (df['Close'] - df['Low']) / (df['High'] - df['Low'])\n",
    "STOK(data)"
   ]
  },
  {
   "cell_type": "code",
   "execution_count": null,
   "id": "d71b5c3e",
   "metadata": {},
   "outputs": [],
   "source": [
    "\n",
    "def STO(df, n):\n",
    "    '''\n",
    "    Stochastic oscillator %D\n",
    "    “近期”这个时间范围是%K的三倍\n",
    "    '''\n",
    "    SOk = pd.Series((df['Close'] - df['Low']) / (df['High'] - df['Low']))\n",
    "\n",
    "    df['STO_' + str(n)] = pd.Series.ewm(SOk, span=n, min_periods=n - 1).mean()\n",
    "\n",
    "STO(data,10)"
   ]
  },
  {
   "cell_type": "code",
   "execution_count": null,
   "id": "e858dd5b",
   "metadata": {},
   "outputs": [],
   "source": [
    "\n",
    "def MACD(df, n_fast=12, n_slow=26):\n",
    "    '''\n",
    "    MACD, MACD Signal and MACD difference\n",
    "    '''\n",
    "    emaFast = pd.Series.ewm(df['Close'], span=n_fast,min_periods=n_slow - 1).mean()\n",
    "    emaSlow = pd.Series.ewm(df['Close'], span=n_slow,min_periods=n_slow - 1).mean()\n",
    "    macd = pd.Series(emaFast - emaSlow)\n",
    "    macdSign = pd.Series.ewm(macd, span=9, min_periods=8).mean()\n",
    "    macdDiff = pd.Series(macd - macdSign)\n",
    "\n",
    "    df['MACD_' + str(n_fast) + '_' + str(n_slow)] = macd\n",
    "    df['MACDsignal_' + str(n_fast) + '_' + str(n_slow)] = macdSign\n",
    "    df['MACDdiff_' + str(n_fast) + '_' + str(n_slow)] = macdDiff\n",
    "\n",
    "MACD(data,10)"
   ]
  },
  {
   "cell_type": "code",
   "execution_count": null,
   "id": "f2dce5d8",
   "metadata": {},
   "outputs": [],
   "source": [
    "def MFI(df, n):\n",
    "    '''\n",
    "    Money Flow Index and Ratio\n",
    "    衡量资金流动的强度和方向\n",
    "    '''\n",
    "    pp = (df['High'] + df['Low'] + df['Close']) / 3\n",
    "    PosMF = [0]\n",
    "    for k in range(len(df.index) - 1):\n",
    "        if pp[k + 1] > pp[k]:\n",
    "            PosMF.append(pp[k + 1] * df['Volume'][k + 1])\n",
    "        else:\n",
    "            PosMF.append(0)\n",
    "\n",
    "    PosMF = pd.Series(PosMF)\n",
    "    TotMF = pp * df['Volume']\n",
    "\n",
    "    # .values was used beacause in a nonsense way PosMF/TotMF was\n",
    "    # generating a double size dataFrame and the first half had datas as index\n",
    "    # ! We got an RuntimeWarning because division buy zero, but it still works\n",
    "    mfr = pd.Series(PosMF.values / TotMF.values)\n",
    "\n",
    "    df['MFI_' + str(n)] = pd.Series.rolling(mfr, n).mean().values\n",
    "\n",
    "MFI(data,10)"
   ]
  },
  {
   "cell_type": "code",
   "execution_count": null,
   "id": "a7dcab0b",
   "metadata": {
    "scrolled": true
   },
   "outputs": [],
   "source": [
    "def OBV(df, n):\n",
    "    '''\n",
    "    On-balance Volume平均成交量（on balance volume）\n",
    "    从基准日起对每天的交易量进行统计，将股价上升日的交易量加入累计值，将股价下跌日的交易量从累计值中减去，股价不变交易量不变\n",
    "    '''\n",
    "    obv = [0]\n",
    "    for k in range(len(df.index) - 1):\n",
    "        if df['Close'][k + 1] - df['Close'][k] > 0:\n",
    "            obv.append(df['Volume'][k + 1])\n",
    "        if df['Close'][k + 1] - df['Close'][k] == 0:\n",
    "            obv.append(0)\n",
    "        if df['Close'][k + 1] - df['Close'][k] < 0:\n",
    "            obv.append(-df['Volume'][k + 1])\n",
    "\n",
    "    obv = pd.Series(obv)\n",
    "    df['OBV_' + str(n)] = pd.Series.rolling(obv, n).mean().values\n",
    "\n",
    "OBV(data, 10)"
   ]
  },
  {
   "cell_type": "code",
   "execution_count": null,
   "id": "ff73c1e6",
   "metadata": {
    "scrolled": true
   },
   "outputs": [],
   "source": [
    "# delete NaN\n",
    "data.dropna(inplace=True)\n",
    "data"
   ]
  },
  {
   "cell_type": "code",
   "execution_count": null,
   "id": "25aea8ad",
   "metadata": {
    "scrolled": true
   },
   "outputs": [],
   "source": [
    "data.to_csv('Apple_data.csv')"
   ]
  },
  {
   "cell_type": "code",
   "execution_count": null,
   "id": "caaf83ae",
   "metadata": {},
   "outputs": [],
   "source": [
    "data['Close'].plot(figsize=(16,4),label='APPL')"
   ]
  },
  {
   "cell_type": "code",
   "execution_count": null,
   "id": "20f94ca5",
   "metadata": {},
   "outputs": [],
   "source": []
  },
  {
   "cell_type": "code",
   "execution_count": null,
   "id": "5f23577b",
   "metadata": {},
   "outputs": [],
   "source": []
  }
 ],
 "metadata": {
  "kernelspec": {
   "display_name": "Python 3 (ipykernel)",
   "language": "python",
   "name": "python3"
  },
  "language_info": {
   "codemirror_mode": {
    "name": "ipython",
    "version": 3
   },
   "file_extension": ".py",
   "mimetype": "text/x-python",
   "name": "python",
   "nbconvert_exporter": "python",
   "pygments_lexer": "ipython3",
   "version": "3.10.0"
  }
 },
 "nbformat": 4,
 "nbformat_minor": 5
}
